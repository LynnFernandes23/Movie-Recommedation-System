{
 "cells": [
  {
   "cell_type": "code",
   "execution_count": 2,
   "metadata": {},
   "outputs": [],
   "source": [
    "import pandas as pd\n",
    "import numpy as np"
   ]
  },
  {
   "cell_type": "code",
   "execution_count": 3,
   "metadata": {},
   "outputs": [],
   "source": [
    "credit_df=pd.read_csv(\"../data/credits.csv\")\n",
    "movies_df=pd.read_csv(\"../data/movies.csv\")\n"
   ]
  },
  {
   "cell_type": "code",
   "execution_count": 4,
   "metadata": {},
   "outputs": [],
   "source": [
    "movies_df=movies_df.merge(credit_df,on=\"title\")"
   ]
  },
  {
   "cell_type": "code",
   "execution_count": 5,
   "metadata": {},
   "outputs": [],
   "source": [
    "movies_df.dropna(inplace=True)"
   ]
  },
  {
   "cell_type": "code",
   "execution_count": 6,
   "metadata": {},
   "outputs": [
    {
     "data": {
      "text/plain": [
       "0"
      ]
     },
     "execution_count": 6,
     "metadata": {},
     "output_type": "execute_result"
    }
   ],
   "source": [
    "movies_df.duplicated().sum()"
   ]
  },
  {
   "cell_type": "code",
   "execution_count": 9,
   "metadata": {},
   "outputs": [
    {
     "data": {
      "text/plain": [
       "6.273159303882196"
      ]
     },
     "execution_count": 9,
     "metadata": {},
     "output_type": "execute_result"
    }
   ],
   "source": [
    "c=movies_df[\"vote_average\"].mean()\n",
    "c"
   ]
  },
  {
   "cell_type": "code",
   "execution_count": 13,
   "metadata": {},
   "outputs": [
    {
     "data": {
      "text/plain": [
       "3611.7000000000016"
      ]
     },
     "execution_count": 13,
     "metadata": {},
     "output_type": "execute_result"
    }
   ],
   "source": [
    "m=movies_df[\"vote_count\"].quantile(0.90)\n",
    "m"
   ]
  },
  {
   "cell_type": "code",
   "execution_count": 15,
   "metadata": {},
   "outputs": [
    {
     "data": {
      "text/plain": [
       "(150, 23)"
      ]
     },
     "execution_count": 15,
     "metadata": {},
     "output_type": "execute_result"
    }
   ],
   "source": [
    "top_movies=movies_df.copy().loc[movies_df[\"vote_count\"]>=m]\n",
    "top_movies.shape"
   ]
  },
  {
   "cell_type": "code",
   "execution_count": 17,
   "metadata": {},
   "outputs": [],
   "source": [
    "def weighted_rating(x, m=m, C=c):\n",
    "    v = x['vote_count']\n",
    "    R = x['vote_average']\n",
    "    # Calculation based on the IMDB formula\n",
    "    return (v/(v+m) * R) + (m/(m+v) * C)"
   ]
  },
  {
   "cell_type": "code",
   "execution_count": 21,
   "metadata": {},
   "outputs": [],
   "source": [
    "top_movies[\"score\"]=top_movies.apply(weighted_rating,axis=1)"
   ]
  },
  {
   "cell_type": "code",
   "execution_count": 25,
   "metadata": {},
   "outputs": [],
   "source": [
    "final_list=top_movies.sort_values(\"score\",ascending=False)\n",
    "pd.set_option('display.max_columns',None)\n",
    "pd.set_option('display.max_rows',None)\n"
   ]
  },
  {
   "cell_type": "code",
   "execution_count": 26,
   "metadata": {},
   "outputs": [
    {
     "name": "stdout",
     "output_type": "stream",
     "text": [
      "                                                  title  vote_count  \\\n",
      "65                                      The Dark Knight       12002   \n",
      "662                                          Fight Club        9413   \n",
      "96                                            Inception       13752   \n",
      "95                                         Interstellar       10867   \n",
      "3342                                      The Godfather        5893   \n",
      "329       The Lord of the Rings: The Return of the King        8064   \n",
      "262   The Lord of the Rings: The Fellowship of the Ring        8705   \n",
      "1996                            The Empire Strikes Back        5879   \n",
      "94                              Guardians of the Galaxy        9742   \n",
      "2917                                          Star Wars        6624   \n",
      "330               The Lord of the Rings: The Two Towers        7487   \n",
      "634                                          The Matrix        8907   \n",
      "287                                    Django Unchained       10099   \n",
      "1559                                              Se7en        5765   \n",
      "77                                           Inside Out        6560   \n",
      "1824                                   Schindler's List        4329   \n",
      "3871                                           Whiplash        4254   \n",
      "2291                                 Back to the Future        6079   \n",
      "2528                                 The Imitation Game        5723   \n",
      "298                             The Wolf of Wall Street        6571   \n",
      "2300                                      Spirited Away        3840   \n",
      "571                                Inglourious Basterds        6430   \n",
      "494                                       The Lion King        5376   \n",
      "690                                      The Green Mile        4048   \n",
      "693                                           Gone Girl        5862   \n",
      "439                                      Shutter Island        6336   \n",
      "57                                               WALL·E        6296   \n",
      "3578                                            Memento        4028   \n",
      "88                                           Big Hero 6        6135   \n",
      "3                                 The Dark Knight Rises        9106   \n",
      "1199                                       The Prestige        4391   \n",
      "1496                                 Return of the Jedi        4665   \n",
      "3163                                              Alien        4470   \n",
      "351                                        The Departed        4339   \n",
      "270                                         The Martian        7268   \n",
      "2003                                                Her        4097   \n",
      "16                                         The Avengers       11776   \n",
      "788                                            Deadpool       10995   \n",
      "328                                        Finding Nemo        6122   \n",
      "25                                              Titanic        7562   \n",
      "828                                   Kill Bill: Vol. 1        4949   \n",
      "119                                       Batman Begins        7359   \n",
      "2158              Eternal Sunshine of the Spotless Mind        3652   \n",
      "85                  Captain America: The Winter Soldier        5764   \n",
      "197            Harry Potter and the Philosopher's Stone        7006   \n",
      "199   Pirates of the Caribbean: The Curse of the Bla...        6985   \n",
      "68                                             Iron Man        8776   \n",
      "932                                      V for Vendetta        4442   \n",
      "46                           X-Men: Days of Future Past        6032   \n",
      "231                                      Monsters, Inc.        5996   \n",
      "74                                     Edge of Tomorrow        4858   \n",
      "675                                       Jurassic Park        4856   \n",
      "2758                                         Ex Machina        4737   \n",
      "114                 Harry Potter and the Goblet of Fire        5608   \n",
      "42                                          Toy Story 3        4597   \n",
      "22                  The Hobbit: The Desolation of Smaug        4524   \n",
      "2091                            Raiders of the Lost Ark        3854   \n",
      "883                                 Catch Me If You Can        3795   \n",
      "183                     The Hunger Games: Catching Fire        6495   \n",
      "684                                   The Hateful Eight        4274   \n",
      "0                                                Avatar       11800   \n",
      "113           Harry Potter and the Order of the Phoenix        5494   \n",
      "118                                         Ratatouille        4369   \n",
      "127                                  Mad Max: Fury Road        9427   \n",
      "8                Harry Potter and the Half-Blood Prince        5293   \n",
      "7                               Avengers: Age of Ultron        6767   \n",
      "339                                     The Incredibles        5152   \n",
      "92                             How to Train Your Dragon        4227   \n",
      "176                                        The Revenant        6396   \n",
      "239                                             Gravity        5751   \n",
      "790                                     American Sniper        4469   \n",
      "124                                              Frozen        5295   \n",
      "1359                                       The Hangover        6173   \n",
      "1155                         Back to the Future Part II        3829   \n",
      "2564                                              Drive        3725   \n",
      "216                                          Life of Pi        5797   \n",
      "2736                                         Black Swan        4430   \n",
      "82                       Dawn of the Planet of the Apes        4410   \n",
      "26                           Captain America: Civil War        7241   \n",
      "44                                            Furious 7        4176   \n",
      "3444                                     The Terminator        4128   \n",
      "899                                               Shrek        4056   \n",
      "614                                       Despicable Me        6478   \n",
      "277                                       Casino Royale        3855   \n",
      "343                                         Toy Story 2        3806   \n",
      "98                    The Hobbit: An Unexpected Journey        8297   \n",
      "101                                  X-Men: First Class        5181   \n",
      "388                                      Ocean's Eleven        3783   \n",
      "19            The Hobbit: The Battle of the Five Armies        4760   \n",
      "89                                       Wreck-It Ralph        4570   \n",
      "426                                    The Hunger Games        9455   \n",
      "182                                             Ant-Man        5880   \n",
      "356                                     Sherlock Holmes        5766   \n",
      "229        Star Wars: Episode III - Revenge of the Sith        4116   \n",
      "1471                                    The Maze Runner        5371   \n",
      "12           Pirates of the Caribbean: Dead Man's Chest        5246   \n",
      "631                                             Ice Age        3857   \n",
      "29                                              Skyfall        7604   \n",
      "687                                                 300        4997   \n",
      "506                                     Despicable Me 2        4637   \n",
      "81                                           Maleficent        4496   \n",
      "335                      Rise of the Planet of the Apes        4347   \n",
      "205                  Sherlock Holmes: A Game of Shadows        3886   \n",
      "31                                           Iron Man 3        8806   \n",
      "116                                         I Am Legend        4853   \n",
      "2077                            Silver Linings Playbook        4742   \n",
      "400                                           Divergent        4663   \n",
      "1              Pirates of the Caribbean: At World's End        4500   \n",
      "342                                        Men in Black        4412   \n",
      "159                                          Spider-Man        5265   \n",
      "126                                Thor: The Dark World        4755   \n",
      "153                Mission: Impossible - Ghost Protocol        3972   \n",
      "45                                          World War Z        5560   \n",
      "51                                          Pacific Rim        4794   \n",
      "55                                                Brave        4641   \n",
      "30                                         Spider-Man 2        4321   \n",
      "1122                                     21 Jump Street        4074   \n",
      "169                  Captain America: The First Avenger        7047   \n",
      "79                                           Iron Man 2        6849   \n",
      "117                   Charlie and the Chocolate Factory        3624   \n",
      "129                                                Thor        6525   \n",
      "200               The Hunger Games: Mockingjay - Part 1        5584   \n",
      "1574                                             Looper        4697   \n",
      "111                                        Transformers        4040   \n",
      "102               The Hunger Games: Mockingjay - Part 2        3984   \n",
      "566                                                Cars        3877   \n",
      "28                                       Jurassic World        8662   \n",
      "20                               The Amazing Spider-Man        6586   \n",
      "14                                         Man of Steel        6359   \n",
      "38                             The Amazing Spider-Man 2        4179   \n",
      "17          Pirates of the Caribbean: On Stranger Tides        4948   \n",
      "228                                            Oblivion        4800   \n",
      "64                                    X-Men: Apocalypse        4721   \n",
      "32                                  Alice in Wonderland        4645   \n",
      "546                                             Minions        4571   \n",
      "230        Star Wars: Episode II - Attack of the Clones        3992   \n",
      "1156                                               Lucy        5878   \n",
      "220                                          Prometheus        5080   \n",
      "903                                                 Ted        4697   \n",
      "2                                               Spectre        4466   \n",
      "233           Star Wars: Episode I - The Phantom Menace        4432   \n",
      "232                                       The Wolverine        4053   \n",
      "427                                The Hangover Part II        3739   \n",
      "249                                           Insurgent        3829   \n",
      "122                            X-Men Origins: Wolverine        4021   \n",
      "18                                       Men in Black 3        4160   \n",
      "108                                  Terminator Genisys        3631   \n",
      "72                                        Suicide Squad        7458   \n",
      "9                    Batman v Superman: Dawn of Justice        7004   \n",
      "59                                                 2012        4903   \n",
      "\n",
      "      vote_average     score  \n",
      "65             8.2  7.754291  \n",
      "662            8.3  7.737965  \n",
      "96             8.1  7.720012  \n",
      "95             8.1  7.644296  \n",
      "3342           8.4  7.591820  \n",
      "329            8.1  7.534895  \n",
      "262            8.0  7.493628  \n",
      "1996           8.2  7.466738  \n",
      "94             7.9  7.459998  \n",
      "2917           8.1  7.455393  \n",
      "330            8.0  7.438058  \n",
      "634            7.9  7.430649  \n",
      "287            7.8  7.397797  \n",
      "1559           8.1  7.396341  \n",
      "77             8.0  7.386845  \n",
      "1824           8.3  7.378124  \n",
      "3871           8.3  7.369334  \n",
      "2291           8.0  7.356411  \n",
      "2528           8.0  7.331866  \n",
      "298            7.9  7.322976  \n",
      "2300           8.3  7.317628  \n",
      "571            7.9  7.314874  \n",
      "494            8.0  7.306070  \n",
      "690            8.2  7.291457  \n",
      "693            7.9  7.279792  \n",
      "439            7.8  7.245652  \n",
      "57             7.8  7.243414  \n",
      "3578           8.1  7.236353  \n",
      "88             7.8  7.234220  \n",
      "3              7.6  7.223190  \n",
      "1199           8.0  7.220659  \n",
      "1496           7.9  7.190096  \n",
      "3163           7.9  7.172967  \n",
      "351            7.9  7.160988  \n",
      "270            7.6  7.159533  \n",
      "2003           7.9  7.137788  \n",
      "16             7.4  7.135515  \n",
      "788            7.4  7.121374  \n",
      "328            7.6  7.107674  \n",
      "25             7.5  7.103446  \n",
      "828            7.7  7.098026  \n",
      "119            7.5  7.096108  \n",
      "2158           7.9  7.091093  \n",
      "85             7.6  7.088875  \n",
      "197            7.5  7.082680  \n",
      "199            7.5  7.081853  \n",
      "68             7.4  7.071464  \n",
      "932            7.7  7.060130  \n",
      "46             7.5  7.040531  \n",
      "231            7.5  7.038809  \n",
      "74             7.6  7.034201  \n",
      "675            7.6  7.034067  \n",
      "2758           7.6  7.026000  \n",
      "114            7.5  7.019401  \n",
      "42             7.6  7.016211  \n",
      "22             7.6  7.010973  \n",
      "2091           7.7  7.009734  \n",
      "883            7.7  7.004235  \n",
      "183            7.4  6.997316  \n",
      "684            7.6  6.992299  \n",
      "0              7.2  6.982797  \n",
      "113            7.4  6.953048  \n",
      "118            7.5  6.944788  \n",
      "127            7.2  6.943267  \n",
      "8              7.4  6.942959  \n",
      "7              7.3  6.942668  \n",
      "339            7.4  6.935606  \n",
      "92             7.5  6.934730  \n",
      "176            7.3  6.929421  \n",
      "239            7.3  6.903892  \n",
      "790            7.4  6.896354  \n",
      "124            7.3  6.883612  \n",
      "1359           7.2  6.857887  \n",
      "1155           7.4  6.853034  \n",
      "2564           7.4  6.845281  \n",
      "216            7.2  6.844215  \n",
      "2736           7.3  6.838824  \n",
      "82             7.3  6.837674  \n",
      "26             7.1  6.824833  \n",
      "44             7.3  6.823782  \n",
      "3444           7.3  6.820829  \n",
      "899            7.3  6.816329  \n",
      "614            7.1  6.804025  \n",
      "277            7.3  6.803309  \n",
      "343            7.3  6.800028  \n",
      "98             7.0  6.779562  \n",
      "101            7.1  6.760366  \n",
      "388            7.2  6.747315  \n",
      "19             7.1  6.743286  \n",
      "89             7.1  6.735002  \n",
      "426            6.9  6.726738  \n",
      "182            7.0  6.723429  \n",
      "356            7.0  6.720067  \n",
      "229            7.1  6.713559  \n",
      "1471           7.0  6.707757  \n",
      "12             7.0  6.703633  \n",
      "631            7.1  6.700158  \n",
      "29             6.9  6.698144  \n",
      "687            7.0  6.695061  \n",
      "506            7.0  6.681752  \n",
      "81             7.0  6.676218  \n",
      "335            7.0  6.670156  \n",
      "205            7.0  6.649875  \n",
      "31             6.8  6.646768  \n",
      "116            6.9  6.632541  \n",
      "2077           6.9  6.628987  \n",
      "400            6.9  6.626400  \n",
      "1              6.9  6.620902  \n",
      "342            6.9  6.617841  \n",
      "159            6.8  6.585642  \n",
      "126            6.8  6.572576  \n",
      "153            6.8  6.549095  \n",
      "45             6.7  6.531916  \n",
      "51             6.7  6.516598  \n",
      "55             6.7  6.513198  \n",
      "30             6.7  6.505663  \n",
      "1122           6.7  6.499417  \n",
      "169            6.6  6.489250  \n",
      "79             6.6  6.487154  \n",
      "117            6.7  6.486942  \n",
      "129            6.6  6.483547  \n",
      "200            6.6  6.471630  \n",
      "1574           6.6  6.457926  \n",
      "111            6.6  6.445727  \n",
      "102            6.6  6.444590  \n",
      "566            6.6  6.442369  \n",
      "28             6.5  6.433249  \n",
      "20             6.5  6.419660  \n",
      "14             6.5  6.417831  \n",
      "38             6.5  6.394839  \n",
      "17             6.4  6.346481  \n",
      "228            6.4  6.345539  \n",
      "64             6.4  6.345023  \n",
      "32             6.4  6.344517  \n",
      "546            6.4  6.344015  \n",
      "230            6.4  6.339752  \n",
      "1156           6.3  6.289785  \n",
      "220            6.3  6.288847  \n",
      "903            6.3  6.288333  \n",
      "2              6.3  6.287999  \n",
      "233            6.3  6.287948  \n",
      "232            6.3  6.287352  \n",
      "427            6.2  6.235946  \n",
      "249            6.2  6.235511  \n",
      "122            6.2  6.234618  \n",
      "18             6.2  6.233999  \n",
      "108            5.8  6.035949  \n",
      "72             5.9  6.021750  \n",
      "9              5.7  5.895002  \n",
      "59             5.6  5.885536  \n"
     ]
    }
   ],
   "source": [
    "print(final_list[[\"title\",'vote_count','vote_average','score']])"
   ]
  },
  {
   "cell_type": "code",
   "execution_count": null,
   "metadata": {},
   "outputs": [],
   "source": []
  }
 ],
 "metadata": {
  "kernelspec": {
   "display_name": "Python 3",
   "language": "python",
   "name": "python3"
  },
  "language_info": {
   "codemirror_mode": {
    "name": "ipython",
    "version": 3
   },
   "file_extension": ".py",
   "mimetype": "text/x-python",
   "name": "python",
   "nbconvert_exporter": "python",
   "pygments_lexer": "ipython3",
   "version": "3.10.2"
  },
  "orig_nbformat": 4,
  "vscode": {
   "interpreter": {
    "hash": "27f6fea6f47ae512550f0b8facdbd035a93e1dd89633f7bf2dd00a2502c71d0d"
   }
  }
 },
 "nbformat": 4,
 "nbformat_minor": 2
}
